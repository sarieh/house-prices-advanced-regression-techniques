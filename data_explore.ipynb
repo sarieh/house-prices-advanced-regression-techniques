{
 "cells": [
  {
   "cell_type": "code",
   "execution_count": null,
   "id": "4832d4b3",
   "metadata": {},
   "outputs": [],
   "source": [
    "%load_ext autoreload\n",
    "%autoreload 2"
   ]
  },
  {
   "cell_type": "markdown",
   "id": "3bb4e1b8",
   "metadata": {},
   "source": [
    "## Libraries"
   ]
  },
  {
   "cell_type": "code",
   "execution_count": null,
   "id": "bc5b8d6a",
   "metadata": {},
   "outputs": [],
   "source": [
    "import numpy as np\n",
    "import pandas as pd\n",
    "from pathlib import Path\n",
    "from utils import *\n",
    "from visualization import *\n",
    "from feature_selectors.categorical_feature_selectors import MutualInformationSelector\n",
    "from feature_selectors.correlation_feature_selector import CorrelationFeatureSelector\n",
    "from pathlib import Path"
   ]
  },
  {
   "cell_type": "markdown",
   "id": "10f119f7",
   "metadata": {},
   "source": [
    "## Train data"
   ]
  },
  {
   "cell_type": "code",
   "execution_count": null,
   "id": "83c0c031",
   "metadata": {},
   "outputs": [],
   "source": [
    "root_dir = Path(\"data\").resolve()\n",
    "filename = 'train.csv'"
   ]
  },
  {
   "cell_type": "code",
   "execution_count": null,
   "id": "ceb146e4",
   "metadata": {},
   "outputs": [],
   "source": [
    "df = read_data_from_csv(root_dir, filename).drop(columns=[\"Id\"])\n",
    "target = df[\"SalePrice\"]"
   ]
  },
  {
   "cell_type": "markdown",
   "id": "8c741b6f",
   "metadata": {},
   "source": [
    "## Numerical Features Analysis"
   ]
  },
  {
   "cell_type": "code",
   "execution_count": null,
   "id": "31288187",
   "metadata": {},
   "outputs": [],
   "source": [
    "n_df = df[get_numeric_columns(df)]\n"
   ]
  },
  {
   "cell_type": "code",
   "execution_count": null,
   "id": "c400deba",
   "metadata": {},
   "outputs": [],
   "source": [
    "n_df.describe()"
   ]
  },
  {
   "cell_type": "markdown",
   "id": "d65fdc3d",
   "metadata": {},
   "source": [
    "## Impute the NaN Values of Numerical Features with the `mean` Value of the Feature Column"
   ]
  },
  {
   "cell_type": "code",
   "execution_count": null,
   "id": "fa24cd23",
   "metadata": {},
   "outputs": [],
   "source": [
    "for col in columns_with_nans(n_df).index:\n",
    "    n_df = feature_fill_nan_with_value(n_df, col, n_df[col].mean())"
   ]
  },
  {
   "cell_type": "markdown",
   "id": "e37e141a",
   "metadata": {},
   "source": [
    "## Correlation Map of Numerical Features"
   ]
  },
  {
   "cell_type": "code",
   "execution_count": null,
   "id": "35d8587d",
   "metadata": {},
   "outputs": [],
   "source": [
    "correlation_heat_map(n_df, method='spearman', title=\"Numerical Feature\")"
   ]
  },
  {
   "cell_type": "markdown",
   "id": "a70af754",
   "metadata": {},
   "source": [
    "## Scatter Plot for Numerical Features"
   ]
  },
  {
   "cell_type": "code",
   "execution_count": null,
   "id": "d8ea3c83",
   "metadata": {},
   "outputs": [],
   "source": [
    "scatter_plots_against_target(n_df, target)"
   ]
  },
  {
   "cell_type": "markdown",
   "id": "1578a72b",
   "metadata": {},
   "source": [
    "## Feature Selections of Numerical Features"
   ]
  },
  {
   "cell_type": "code",
   "execution_count": null,
   "id": "6b94a0eb",
   "metadata": {},
   "outputs": [],
   "source": [
    "n_df = CorrelationFeatureSelector(method='spearman', threshold=0.2).fit_transform(n_df, target)"
   ]
  },
  {
   "cell_type": "code",
   "execution_count": null,
   "id": "08ffd06a",
   "metadata": {},
   "outputs": [],
   "source": [
    "correlation_heat_map(n_df, method='spearman', title='Correlation Map of Reduced Features')"
   ]
  },
  {
   "cell_type": "markdown",
   "id": "56762322",
   "metadata": {},
   "source": [
    "## Scatter plot of Reduced Features"
   ]
  },
  {
   "cell_type": "code",
   "execution_count": null,
   "id": "f62710ff",
   "metadata": {},
   "outputs": [],
   "source": [
    "scatter_plots_against_target(n_df, target)"
   ]
  },
  {
   "cell_type": "code",
   "execution_count": null,
   "id": "e873d2e6",
   "metadata": {},
   "outputs": [],
   "source": [
    "n_df = n_df.drop(columns='SalePrice')"
   ]
  },
  {
   "cell_type": "markdown",
   "id": "c4863683",
   "metadata": {},
   "source": [
    "## Analysis of Categorical Features"
   ]
  },
  {
   "cell_type": "code",
   "execution_count": null,
   "id": "425f968c",
   "metadata": {},
   "outputs": [],
   "source": [
    "c_df = df[get_categorical_columns(df)]"
   ]
  },
  {
   "cell_type": "code",
   "execution_count": null,
   "id": "17d1c7de",
   "metadata": {},
   "outputs": [],
   "source": [
    "c_df.describe()"
   ]
  },
  {
   "cell_type": "code",
   "execution_count": null,
   "id": "b62085d7",
   "metadata": {},
   "outputs": [],
   "source": [
    "columns_with_nans(c_df)"
   ]
  },
  {
   "cell_type": "markdown",
   "id": "fae0894e",
   "metadata": {},
   "source": [
    "## Fill the missed values of NA values with 'NA' instead of 'NaN'"
   ]
  },
  {
   "cell_type": "code",
   "execution_count": null,
   "id": "48313a34",
   "metadata": {},
   "outputs": [],
   "source": [
    "c_df = fill_nan(c_df, \"NA\")"
   ]
  },
  {
   "cell_type": "markdown",
   "id": "ec5ffc09",
   "metadata": {},
   "source": [
    "## Boxplot of categorical Features VS Target"
   ]
  },
  {
   "cell_type": "code",
   "execution_count": null,
   "id": "5bdc6024",
   "metadata": {},
   "outputs": [],
   "source": [
    "categorical_vs_target_plot(c_df, target)"
   ]
  },
  {
   "cell_type": "markdown",
   "id": "6fbf23ac",
   "metadata": {},
   "source": [
    "## Feature Selection of Categorical Features"
   ]
  },
  {
   "cell_type": "code",
   "execution_count": null,
   "id": "bbaf395d",
   "metadata": {},
   "outputs": [],
   "source": [
    "c_df = MutualInformationSelector(mi_threshold=0.1).fit_transform(c_df, target)"
   ]
  },
  {
   "cell_type": "code",
   "execution_count": null,
   "id": "229294c8",
   "metadata": {},
   "outputs": [],
   "source": [
    "categorical_vs_target_plot(c_df, target)"
   ]
  },
  {
   "cell_type": "markdown",
   "id": "9aa338c9",
   "metadata": {},
   "source": [
    "## Target Variable Distribution Plot"
   ]
  },
  {
   "cell_type": "code",
   "execution_count": null,
   "id": "7adfaf21",
   "metadata": {},
   "outputs": [],
   "source": [
    "fig, axes = plt.subplots(1, 2, figsize=(12, 5))  # 1 row, 2 columns\n",
    "\n",
    "# First plot\n",
    "plot_target_distribution(\n",
    "    target.to_numpy(),\n",
    "    \"Original Sale Price Distribution\",\n",
    "    xlabel=\"Sale Price\",\n",
    "    ylabel=\"Frequency\",\n",
    "    ax=axes[0]\n",
    ")\n",
    "\n",
    "# Second plot\n",
    "plot_target_distribution(\n",
    "    np.log(target.to_numpy()),\n",
    "    \"Log Sale Price Distribution\",\n",
    "    xlabel=\"Log(Sale Price)\",\n",
    "    ylabel=\"Frequency\",\n",
    "    ax=axes[1]\n",
    ")\n",
    "\n",
    "plt.tight_layout()\n",
    "plt.show()"
   ]
  }
 ],
 "metadata": {
  "kernelspec": {
   "display_name": "kaggle_house",
   "language": "python",
   "name": "python3"
  },
  "language_info": {
   "codemirror_mode": {
    "name": "ipython",
    "version": 3
   },
   "file_extension": ".py",
   "mimetype": "text/x-python",
   "name": "python",
   "nbconvert_exporter": "python",
   "pygments_lexer": "ipython3",
   "version": "3.12.9"
  }
 },
 "nbformat": 4,
 "nbformat_minor": 5
}
